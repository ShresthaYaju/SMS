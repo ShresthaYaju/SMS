{
  "nbformat": 4,
  "nbformat_minor": 0,
  "metadata": {
    "colab": {
      "name": "KNN.ipynb",
      "provenance": [],
      "authorship_tag": "ABX9TyPo5BiTjovRTHiqVdxf5n9F",
      "include_colab_link": true
    },
    "kernelspec": {
      "name": "python3",
      "display_name": "Python 3"
    },
    "language_info": {
      "name": "python"
    }
  },
  "cells": [
    {
      "cell_type": "markdown",
      "metadata": {
        "id": "view-in-github",
        "colab_type": "text"
      },
      "source": [
        "<a href=\"https://colab.research.google.com/github/ShresthaYaju/SMS/blob/main/KNN.ipynb\" target=\"_parent\"><img src=\"https://colab.research.google.com/assets/colab-badge.svg\" alt=\"Open In Colab\"/></a>"
      ]
    },
    {
      "cell_type": "code",
      "execution_count": null,
      "metadata": {
        "id": "nFDt7A8M-hiA"
      },
      "outputs": [],
      "source": [
        "from google.colab import files\n",
        "uploded =files.upload()"
      ]
    },
    {
      "cell_type": "code",
      "source": [
        "import pandas as pd\n",
        "import numpy as np\n",
        "from sklearn.model_selection import train_test_split\n",
        "from sklearn.neighbors import KNeighborsClassifier\n",
        "from sklearn.model_selection import GridSearchCV\n",
        "from sklearn.preprocessing import OneHotEncoder\n",
        "from sklearn.preprocessing import LabelEncoder\n",
        "from sklearn import metrics\n",
        "import io"
      ],
      "metadata": {
        "id": "vBDA35Cx_CDK"
      },
      "execution_count": null,
      "outputs": []
    },
    {
      "cell_type": "code",
      "source": [
        "FileName=list(uploded.keys())[0]\n",
        "data = pd.read_csv(io.BytesIO(uploded[FileName]))\n",
        "\n",
        "for name in data.columns:\n",
        "  data[name]=data[name].astype(str)\n",
        "\n",
        "ohe= OneHotEncoder()\n",
        "le= LabelEncoder()\n",
        "\n",
        "for Features in data.columns:\n",
        "  if data[Features].dtype==object:\n",
        "    # data[Features]=data[Features].values.reshape(-1,1)\n",
        "    # data[Features]= ohe.fit_transform(data[Features])\n",
        "    data[Features]=le.fit_transform(data[Features])\n",
        "  else:\n",
        "    pass\n",
        "\n",
        "y= data.pop('Label')\n",
        "X =data\n",
        "\n",
        "X_training_data, X_testing_data, y_training_data, y_testing_data = train_test_split(X, y, test_size=0.2, random_state = 42)\n",
        "\n",
        "# import math\n",
        "# math.sqrt(len(y_training_data))\n",
        "\n",
        "KNN = KNeighborsClassifier(n_neighbors=133)\n",
        "param_grid = {'n_neighbors': np.arange(100, 200) }\n",
        "\n",
        "cv= GridSearchCV(KNN, param_grid, cv=13)\n",
        "cv.fit(X_training_data, y_training_data)\n"
      ],
      "metadata": {
        "id": "1ENIItbC_5yJ"
      },
      "execution_count": null,
      "outputs": []
    },
    {
      "cell_type": "code",
      "source": [
        "y_pred = cv.predict(X_testing_data)\n",
        "\n",
        "print(\"Accuracy:\", metrics.accuracy_score(y_testing_data, y_pred))"
      ],
      "metadata": {
        "id": "izfc2I4_KysJ"
      },
      "execution_count": null,
      "outputs": []
    }
  ]
}