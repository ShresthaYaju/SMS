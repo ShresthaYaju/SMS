{
  "nbformat": 4,
  "nbformat_minor": 0,
  "metadata": {
    "colab": {
      "name": "MLP.ipynb",
      "provenance": [],
      "authorship_tag": "ABX9TyOYSRFHBwX7K26krOhESuyS",
      "include_colab_link": true
    },
    "kernelspec": {
      "name": "python3",
      "display_name": "Python 3"
    },
    "language_info": {
      "name": "python"
    }
  },
  "cells": [
    {
      "cell_type": "markdown",
      "metadata": {
        "id": "view-in-github",
        "colab_type": "text"
      },
      "source": [
        "<a href=\"https://colab.research.google.com/github/ShresthaYaju/SMS/blob/main/MLP.ipynb\" target=\"_parent\"><img src=\"https://colab.research.google.com/assets/colab-badge.svg\" alt=\"Open In Colab\"/></a>"
      ]
    },
    {
      "cell_type": "code",
      "execution_count": null,
      "metadata": {
        "id": "pZDIvukYTw-U"
      },
      "outputs": [],
      "source": [
        "from google.colab import files\n",
        "uploaded = files.upload()"
      ]
    },
    {
      "cell_type": "code",
      "source": [
        "import pandas as pd\n",
        "from sklearn.model_selection import train_test_split\n",
        "from sklearn.model_selection import GridSearchCV\n",
        "from sklearn.neural_network import MLPClassifier\n",
        "from sklearn.preprocessing import LabelEncoder\n",
        "from sklearn import metrics\n",
        "import io"
      ],
      "metadata": {
        "id": "7EgMzmkvT8n7"
      },
      "execution_count": null,
      "outputs": []
    },
    {
      "cell_type": "code",
      "source": [
        "FileName= list(uploaded.keys())[0]\n",
        "data= pd.read_csv(io.BytesIO(uploaded[FileName]))\n",
        "\n",
        "for name in data.columns:\n",
        "  data[name]=data[name].astype(str)\n",
        "\n",
        "le= LabelEncoder()\n",
        "\n",
        "for Features in data.columns:\n",
        "  if data[Features].dtype==object:\n",
        "    # data[Features]=data[Features].values.reshape(-1,1)\n",
        "    # data[Features]= ohe.fit_transform(data[Features])\n",
        "    data[Features]=le.fit_transform(data[Features])\n",
        "  else:\n",
        "    pass\n",
        "\n",
        "y= data.pop('Label')\n",
        "X= data\n",
        "\n",
        "X_train, X_test, y_train, y_test = train_test_split(X, y, test_size=0.2, random_state=42)\n",
        "\n",
        "MLP= MLPClassifier()\n",
        "\n",
        "param_grid={\"max_iter\": [150, 200, 250]}\n",
        "cv= GridSearchCV(MLP, param_grid, cv=13)\n",
        "cv.fit(X_train, y_train)"
      ],
      "metadata": {
        "id": "wIP_ZrGCUVRz"
      },
      "execution_count": null,
      "outputs": []
    },
    {
      "cell_type": "code",
      "source": [
        "y_pred= cv.predict(X_test)\n",
        "\n",
        "print('Accuracy:', metrics.accuracy_score(y_test, y_pred))"
      ],
      "metadata": {
        "id": "SZi4uofLWq40"
      },
      "execution_count": null,
      "outputs": []
    }
  ]
}