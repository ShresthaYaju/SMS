{
  "cells": [
    {
      "cell_type": "markdown",
      "metadata": {
        "id": "view-in-github",
        "colab_type": "text"
      },
      "source": [
        "<a href=\"https://colab.research.google.com/github/ShresthaYaju/SMS/blob/main/RandomForest.ipynb\" target=\"_parent\"><img src=\"https://colab.research.google.com/assets/colab-badge.svg\" alt=\"Open In Colab\"/></a>"
      ]
    },
    {
      "cell_type": "code",
      "execution_count": null,
      "metadata": {
        "id": "5DuGTj6yHccD"
      },
      "outputs": [],
      "source": [
        "from google.colab import files\n",
        "uploaded= files.upload()"
      ]
    },
    {
      "cell_type": "code",
      "execution_count": null,
      "metadata": {
        "id": "iavVg5CAanj_"
      },
      "outputs": [],
      "source": [
        "import pandas as pd\n",
        "from sklearn.model_selection import train_test_split\n",
        "from sklearn.ensemble import RandomForestClassifier\n",
        "from sklearn.preprocessing import LabelEncoder\n",
        "from sklearn.preprocessing import OneHotEncoder\n",
        "from sklearn.compose import make_column_transformer\n",
        "from sklearn.model_selection import GridSearchCV\n",
        "from sklearn import preprocessing\n",
        "from sklearn import metrics\n",
        "import io\n"
      ]
    },
    {
      "cell_type": "code",
      "execution_count": null,
      "metadata": {
        "id": "44-meK112qjA"
      },
      "outputs": [],
      "source": [
        "FileName=list(uploaded.keys())[0]\n",
        "data = pd.read_csv(io.BytesIO(uploaded[FileName]))\n",
        "\n",
        "####Change everything in the CSV to a string data type####\n",
        "for name in data.columns:\n",
        "  data[name] = data[name].astype(str)\n",
        "\n",
        "\n",
        "####Encode using Label Encoder####\n",
        "le = preprocessing.LabelEncoder()\n",
        "for column_name in data.columns:\n",
        "  if data[column_name].dtype == object:\n",
        "    data[column_name] = le.fit_transform(data[column_name])\n",
        "  else:\n",
        "    pass\n",
        "\n",
        "\n",
        "####Set Y equal to Label and X equal to everything else####\n",
        "y = data.pop('Label')\n",
        "x = data\n",
        "x.head()\n",
        "\n",
        "\n",
        "####Split into Training and Testing####\n",
        "X_training_data, X_testing_data, y_training_data, y_testing_data = train_test_split(x, y,  test_size=0.2, random_state= 42)\n",
        "\n",
        "\n",
        "####Define Classifier####\n",
        "rfc= RandomForestClassifier()\n",
        "\n",
        "\n",
        "####Set Parameters for fine tuning####\n",
        "parameters = {\n",
        "    \"n_estimators\": [1,50,100,200],\n",
        "    \"max_depth\": [2,4,8,16,32],\n",
        "    \"random_state\": [42]\n",
        "\n",
        "}\n",
        "\n",
        "####Train Model####\n",
        "cv = GridSearchCV(rfc, parameters, cv=13)\n",
        "cv.fit(X_training_data, y_training_data)\n",
        "\n"
      ]
    },
    {
      "cell_type": "code",
      "execution_count": null,
      "metadata": {
        "id": "km9XFyGzIP6b"
      },
      "outputs": [],
      "source": [
        "y_pred = cv.predict(X_testing_data)\n",
        "\n",
        "\n",
        "print(\"Accuracy:\", metrics.accuracy_score(y_testing_data, y_pred))\n"
      ]
    }
  ],
  "metadata": {
    "colab": {
      "name": "RandomForest.ipynb",
      "provenance": [],
      "include_colab_link": true
    },
    "gpuClass": "standard",
    "kernelspec": {
      "display_name": "Python 3",
      "name": "python3"
    },
    "language_info": {
      "name": "python"
    }
  },
  "nbformat": 4,
  "nbformat_minor": 0
}